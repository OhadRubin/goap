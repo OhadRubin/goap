{
 "cells": [
  {
   "cell_type": "code",
   "execution_count": 1,
   "metadata": {},
   "outputs": [
    {
     "name": "stderr",
     "output_type": "stream",
     "text": [
      "/Users/ohadr/.pyenv/versions/3.10.10/lib/python3.10/site-packages/tqdm/auto.py:21: TqdmWarning: IProgress not found. Please update jupyter and ipywidgets. See https://ipywidgets.readthedocs.io/en/stable/user_install.html\n",
      "  from .autonotebook import tqdm as notebook_tqdm\n"
     ]
    }
   ],
   "source": [
    "import sys\n",
    "\n",
    "sys.path.append(\"/Users/ohadr/chains\")\n",
    "from src.chain import MessageChain"
   ]
  },
  {
   "cell_type": "code",
   "execution_count": 7,
   "metadata": {},
   "outputs": [],
   "source": [
    "ref_goap = open(\"/Users/ohadr/egbench/goap/code/ref_goap.py\", \"r\").read()\n",
    "sensor_goap = open(\"/Users/ohadr/egbench/goap/code/sensor_goap.py\", \"r\").read()"
   ]
  },
  {
   "cell_type": "code",
   "execution_count": null,
   "metadata": {},
   "outputs": [],
   "source": [
    "content = f\"\"\"\n",
    "\n",
    "You will be given two files, each implementing a different version of GOAP.\n",
    "The first file is an implementation of GOAP that allows referencing the effects of actions,\n",
    "and the second file is a more complex implementation of GOAP.\n",
    "\n",
    "The first file is a simple implementation of GOAP, and the second file is a more complex implementation of GOAP.\n",
    "\n",
    "\n",
    "\n",
    "{ref_goap}\"\"\"\n",
    "\n",
    "with open(\"prompt.txt\", \"w\") as f:\n",
    "    f.write(content)"
   ]
  },
  {
   "cell_type": "code",
   "execution_count": 6,
   "metadata": {},
   "outputs": [],
   "source": [
    "content = f\"\"\"You will be a file that implements a GOAP system.\n",
    "It is a specialized version of GOAP that allows referencing the effects of actions,\n",
    "Your goal is to convert the code into a specification that would prompt someone to implement the *exact* system.\n",
    "It is part of a homework assignment for students in a game programming course.\n",
    "\n",
    "The quality of your specification will be evaluated by how well it can be used to implement the *exact* system, meaning that if you omit any details, the implementation will not be able to replicate the original system.\n",
    "\n",
    "\n",
    "\n",
    "```\n",
    "{ref_goap}\n",
    "```\n",
    "\n",
    "Reminder:\n",
    "Your goal is to convert the code into a specification that would prompt someone to implement the *exact* system.\n",
    "It is part of a homework assignment for students in a game programming course.\n",
    "\n",
    "The quality of your specification will be evaluated by how well it can be used to implement the *exact* system, meaning that if you omit any details, the implementation will not be able to replicate the original system.\n",
    "\"\"\"\n",
    "\n",
    "with open(\"prompt_for_spec_ref.txt\", \"w\") as f:\n",
    "    f.write(content)"
   ]
  },
  {
   "cell_type": "code",
   "execution_count": 8,
   "metadata": {},
   "outputs": [],
   "source": [
    "content = f\"\"\"You will be a file that implements a GOAP system.\n",
    "It is a specialized version of GOAP that allows sensors and working memory to be used by the planner.\n",
    "Your goal is to convert the code into a specification that would prompt someone to implement the *exact* system.\n",
    "It is part of a homework assignment for students in a game programming course.\n",
    "\n",
    "The quality of your specification will be evaluated by how well it can be used to implement the *exact* system, meaning that if you omit any details, the implementation will not be able to replicate the original system.\n",
    "\n",
    "\n",
    "\n",
    "```\n",
    "{sensor_goap}\n",
    "```\n",
    "\n",
    "Reminder:\n",
    "Your goal is to convert the code into a specification that would prompt someone to implement the *exact* system.\n",
    "It is part of a homework assignment for students in a game programming course.\n",
    "\n",
    "The quality of your specification will be evaluated by how well it can be used to implement the *exact* system, meaning that if you omit any details, the implementation will not be able to replicate the original system.\n",
    "\"\"\"\n",
    "\n",
    "with open(\"prompt_for_sensor_ref.txt\", \"w\") as f:\n",
    "    f.write(content)"
   ]
  },
  {
   "cell_type": "code",
   "execution_count": 9,
   "metadata": {},
   "outputs": [],
   "source": []
  },
  {
   "cell_type": "code",
   "execution_count": 80,
   "metadata": {},
   "outputs": [
    {
     "name": "stdout",
     "output_type": "stream",
     "text": [
      "Wrote shuffled sections to temporary file: /var/folders/7k/w0ptgvjx7m1gvprjz4wdtnm00000gn/T/tmph6nr8pyc\n"
     ]
    }
   ],
   "source": [
    "both_spec = open(\"/Users/ohadr/egbench/goap/code/both_spec.md\", \"r\").read()\n",
    "\n",
    "import numpy as np\n",
    "\n",
    "\n",
    "# Shuffle the list\n",
    "import re\n",
    "def remove_enum(text):\n",
    "    # Match number + dot or parenthesis at start of string only\n",
    "    pattern = r'^\\d+[.)]'\n",
    "    return re.sub(pattern, '', text)\n",
    "\n",
    "\n",
    "def conv_into_sections(text):\n",
    "    text = text.split(\"\\n\\n\\n\")\n",
    "    text = [remove_enum(x.strip()).strip() for x in text if x.strip()]\n",
    "    text = [x for x in text if x.strip(\"”\").strip()]\n",
    "    return text\n",
    "\n",
    "\n",
    "def shuffle_write(sections):\n",
    "    shuffled_spec = sections.copy()\n",
    "    np.random.seed(42)\n",
    "    np.random.shuffle(shuffled_spec)\n",
    "    # Add numbers and store in new list\n",
    "\n",
    "    import tempfile\n",
    "    with tempfile.NamedTemporaryFile(mode='w', delete=False) as f:\n",
    "        f.write(\"\\n\".join([f\"Section {i+1}\\n{item}\\n\" for i, item in enumerate(shuffled_spec)]))\n",
    "        print(f\"Wrote shuffled sections to temporary file: {f.name}\")\n",
    "    return shuffled_spec\n",
    "both_spec = conv_into_sections(both_spec)\n",
    "shuffled_spec = shuffle_write(both_spec)"
   ]
  },
  {
   "cell_type": "code",
   "execution_count": 31,
   "metadata": {},
   "outputs": [],
   "source": [
    "ordering = [1, 3, 2, 16, 4, 5, 14, 6, 7, 9, 10, 11, 12, 15, 13, 17, 18, 8]\n",
    "ordered_spec = [shuffled_spec[i - 1] for i in ordering]\n",
    "\n",
    "with open(\"both_spec_ord.md\", \"w\") as f:\n",
    "    f.write(\"\\n\\n\".join(ordered_spec))"
   ]
  },
  {
   "cell_type": "code",
   "execution_count": 36,
   "metadata": {},
   "outputs": [
    {
     "data": {
      "text/plain": [
       "['The system must support references—i.e., dynamic data passed from one action’s effect into the preconditions of subsequent actions—even if the actual value is only determined at runtime. By defining simple, isolated actions—and letting the system figure out the chain of dependencies—you can rapidly prototype sophisticated behaviors that respond to emergent gameplay changes.”\\n“This specification describes a specialized Goal-Oriented Action Planning (GOAP) system that incorporates sensors and working memory, and a state machine to distribute computation and drive AI behavior in real time. Implement the entire code architecture described here to replicate the system exactly, meaning that if you omit any details, the implementation will not be able to replicate the original system.”',\n",
       " 'TERMINOLOGY AND HIGH-LEVEL STRUCTURE  \\n“An agent develops a plan in real time by supplying a goal to satisfy a planner. The GOAP planner looks at an action’s preconditions and effects in order to determine a queue of actions to satisfy the goal. For a full deep dive into the code itself, please refer to the listing provided in this post’s code blocks.”\\n“This system is a flexible AI planning system that allows agents to determine their own sequence of actions. The system must support referencing the effects of actions, meaning that an action’s preconditions can use dynamic data produced by another action’s effect.”',\n",
       " 'REQUIRED DATA STRUCTURES AND TYPES  \\n“A set of possible goals (conditions to fulfill), a set of actions (each with preconditions and effects), a world state (the environment and the agent’s own data), sensors that detect changes in the world, and a working memory storing perceptions in a consistent format. Facts could be hashed into bins based on the type of knowledge, or sorted in some manner.”\\n“The system must define a dictionary representing the current world state, a collection of Action objects, each with symbolic preconditions/effects, references to pass data, and classes such as WorkingMemoryFact for storing knowledge from sensors.”',\n",
       " 'HOW REFERENCES WORK (EffectReference, reference(..))  \\n“References allow you to ‘pass forward’ an effect from one action into the preconditions of subsequent actions, even if the actual value is only determined at runtime. This is done via class EffectReference: A small class that annotates a requested effect name—and def reference(name: str): A convenience function that returns an EffectReference referencing that name.”\\n“For instance, if Action A has effects = { \"tool_id\": ... }, it means ‘I will provide a tool_id (but we’ll only know the real value at runtime).’ Another action B can specify preconditions = { \"required_tool_id\": reference(\"tool_id\") }, meaning ‘I depend on the tool_id that was created or identified by the earlier action.’”',\n",
       " 'SENSORS AND WORKING MEMORY (WorkingMemoryFact)  \\n“All knowledge generated by sensors is stored in working memory in a common format. Sensors deposit perceptions in working memory and the planner uses these perceptions to guide its decision-making. A WorkingMemoryFact is a record containing a set of associated attributes. Different subsets of attributes are assigned depending on the type of knowledge the fact represents.”',\n",
       " 'Some sensors are event-driven while others poll. Event-driven sensors are useful for recognizing instantaneous events like sounds and damage. Polling works better for sensors that need to extract information from the world.”',\n",
       " 'FIVE DISTINCT SCENARIOS THAT USE REFERENCES (OPTIONAL)  \\n“Below are five hypothetical or illustrative usage scenarios that demonstrate how you can harness references in actions. These scenarios do not include the chanting example from the code snippet—thus giving fresh, concrete insight into references. For instance, passing a tool ID, flipping a table for cover, picking up a key to unlock a door, linking a generated power-on state, or using a repaired bridge to cross a river.”']"
      ]
     },
     "execution_count": 36,
     "metadata": {},
     "output_type": "execute_result"
    }
   ],
   "source": [
    "both_spec1 = \"\"\"\n",
    "\n",
    "INTRODUCTION  \n",
    "“Your task is to implement a regressive Goal-Oriented Action Planning (GOAP) system in Python that exactly matches the features and behaviors described below. The system must support references—i.e., dynamic data passed from one action’s effect into the preconditions of subsequent actions—even if the actual value is only determined at runtime. By defining simple, isolated actions—and letting the system figure out the chain of dependencies—you can rapidly prototype sophisticated behaviors that respond to emergent gameplay changes.”\n",
    "“This specification describes a specialized Goal-Oriented Action Planning (GOAP) system that incorporates sensors and working memory, and a state machine to distribute computation and drive AI behavior in real time. Implement the entire code architecture described here to replicate the system exactly, meaning that if you omit any details, the implementation will not be able to replicate the original system.”\n",
    "\n",
    "\n",
    "1. TERMINOLOGY AND HIGH-LEVEL STRUCTURE  \n",
    "“An agent develops a plan in real time by supplying a goal to satisfy a planner. The GOAP planner looks at an action’s preconditions and effects in order to determine a queue of actions to satisfy the goal. For a full deep dive into the code itself, please refer to the listing provided in this post’s code blocks.”\n",
    "“This system is a flexible AI planning system that allows agents to determine their own sequence of actions. The system must support referencing the effects of actions, meaning that an action’s preconditions can use dynamic data produced by another action’s effect.”\n",
    "\n",
    "2. REQUIRED DATA STRUCTURES AND TYPES  \n",
    "“A set of possible goals (conditions to fulfill), a set of actions (each with preconditions and effects), a world state (the environment and the agent’s own data), sensors that detect changes in the world, and a working memory storing perceptions in a consistent format. Facts could be hashed into bins based on the type of knowledge, or sorted in some manner.”\n",
    "“The system must define a dictionary representing the current world state, a collection of Action objects, each with symbolic preconditions/effects, references to pass data, and classes such as WorkingMemoryFact for storing knowledge from sensors.”\n",
    "\n",
    "3. HOW REFERENCES WORK (EffectReference, reference(..))  \n",
    "“References allow you to ‘pass forward’ an effect from one action into the preconditions of subsequent actions, even if the actual value is only determined at runtime. This is done via class EffectReference: A small class that annotates a requested effect name—and def reference(name: str): A convenience function that returns an EffectReference referencing that name.”\n",
    "“For instance, if Action A has effects = { \"tool_id\": ... }, it means ‘I will provide a tool_id (but we’ll only know the real value at runtime).’ Another action B can specify preconditions = { \"required_tool_id\": reference(\"tool_id\") }, meaning ‘I depend on the tool_id that was created or identified by the earlier action.’”\n",
    "\n",
    "4. SENSORS AND WORKING MEMORY (WorkingMemoryFact)  \n",
    "“All knowledge generated by sensors is stored in working memory in a common format. Sensors deposit perceptions in working memory and the planner uses these perceptions to guide its decision-making. A WorkingMemoryFact is a record containing a set of associated attributes. Different subsets of attributes are assigned depending on the type of knowledge the fact represents.”\n",
    "\n",
    "“Sensors perceive external visible and audible stimuli, as well as internal stimuli such as pain and desires. Some sensors are event-driven while others poll. Event-driven sensors are useful for recognizing instantaneous events like sounds and damage. Polling works better for sensors that need to extract information from the world.”\n",
    "\n",
    "5. FIVE DISTINCT SCENARIOS THAT USE REFERENCES (OPTIONAL)  \n",
    "“Below are five hypothetical or illustrative usage scenarios that demonstrate how you can harness references in actions. These scenarios do not include the chanting example from the code snippet—thus giving fresh, concrete insight into references. For instance, passing a tool ID, flipping a table for cover, picking up a key to unlock a door, linking a generated power-on state, or using a repaired bridge to cross a river.”\n",
    "\n",
    "\n",
    "\"\"\"\n",
    "conv_into_sections(both_spec1)"
   ]
  },
  {
   "cell_type": "code",
   "execution_count": 39,
   "metadata": {},
   "outputs": [
    {
     "ename": "SyntaxError",
     "evalue": "invalid syntax (119269158.py, line 1)",
     "output_type": "error",
     "traceback": [
      "\u001b[0;36m  Cell \u001b[0;32mIn[39], line 1\u001b[0;36m\u001b[0m\n\u001b[0;31m    please suggest a coherent ordering of the following (just output numbers). think first. you should give a permutation of the numbers 1-25.\u001b[0m\n\u001b[0m           ^\u001b[0m\n\u001b[0;31mSyntaxError\u001b[0m\u001b[0;31m:\u001b[0m invalid syntax\n"
     ]
    }
   ],
   "source": [
    "please suggest a coherent ordering of the following (just output numbers). think first. you should give a permutation of the numbers 1-25.\n",
    "\n"
   ]
  },
  {
   "cell_type": "code",
   "execution_count": 48,
   "metadata": {},
   "outputs": [
    {
     "name": "stdout",
     "output_type": "stream",
     "text": [
      "Wrote shuffled sections to temporary file: /var/folders/7k/w0ptgvjx7m1gvprjz4wdtnm00000gn/T/tmp7ptwtd46\n",
      "20\n"
     ]
    },
    {
     "data": {
      "text/plain": [
       "['REQUIRED DATA STRUCTURES AND TYPES  \\n“A set of possible goals (conditions to fulfill), a set of actions (each with preconditions and effects), a world state (the environment and the agent’s own data), sensors that detect changes in the world, and a working memory storing perceptions in a consistent format. Facts could be hashed into bins based on the type of knowledge, or sorted in some manner.”',\n",
       " 'SENSORS, FACTS, AND WORKING MEMORY  \\na) Sensor Interface  \\n• Each sensor has an update method: sense(memory, worldState).  \\n• On invocation, the sensor inspects the world (or worldState) and generates facts.  \\nb) Fact Objects  \\n• A fact contains, at minimum:  \\n  – factType (e.g., “EnemyLocation” or “DoorState”).  \\n  – data (could be a dictionary for more attributes).  \\n  – confidence (a float from 0 to 1).  \\n• The memory class stores and retrieves facts, possibly removing old ones as needed.  \\nc) Planner Integration  \\n• Before or during planning, the AI consults working memory to confirm context-based requirements for actions. For instance, an action might require that a “NodeAvailable” fact with confidence above 0.7 exists before it can be chosen.',\n",
       " 'REQUIRED DATA STRUCTURES AND TYPES  \\n“A set of possible goals (conditions to fulfill), a set of actions (each with preconditions and effects), a world state (the environment and the agent’s own data), sensors that detect changes in the world, and a working memory storing perceptions in a consistent format. Facts could be hashed into bins based on the type of knowledge, or sorted in some manner.”\\n“The system must define a dictionary representing the current world state, a collection of Action objects, each with symbolic preconditions/effects, references to pass data, and classes such as WorkingMemoryFact for storing knowledge from sensors.”',\n",
       " 'OVERALL ARCHITECTURE  \\n• The system is built around a Goal-Oriented Action Planning (GOAP) model, where an AI agent decides how to achieve a desired goal by formulating a sequence of actions at runtime.  \\n• The planner uses regressive search from the goal to the initial state, linking preconditions and effects.  \\n• Sensors provide up-to-date information about the world. Their collected data is stored in working memory as “facts.”  \\n• The planner uses both symbolic world-state checks and these sensor-produced facts to determine whether each action’s preconditions are satisfied.  \\n• References allow dynamic data flowing from one action’s effect to another action’s precondition, without hardcoding the actual value until runtime.',\n",
       " 'TERMINOLOGY AND HIGH-LEVEL STRUCTURE  \\n“An agent develops a plan in real time by supplying a goal to satisfy a planner. The GOAP planner looks at an action’s preconditions and effects in order to determine a queue of actions to satisfy the goal. For a full deep dive into the code itself, please refer to the listing provided in this post’s code blocks.”\\n“This system is a flexible AI planning system that allows agents to determine their own sequence of actions. The system must support referencing the effects of actions, meaning that an action’s preconditions can use dynamic data produced by another action’s effect.”',\n",
       " 'PLANNING ALGORITHM  \\n• Implement a regressive search (A* or BFS-based) from the goal state.  \\n• Whenever the search needs to satisfy a precondition key, it looks for an action whose effect matches that key (including referencing).  \\n• For referencing scenarios, if the effect is Ellipsis or a dynamic placeholder, the planner pairs it with that precondition, unifying the two so that the final plan has a consistent flow of data.  \\n• Cost accumulation is performed by summing each chosen action’s cost. The plan with the lowest total cost is selected.  \\n• During plan assembly, some additional “context preconditions” can consult working memory. For example, if an action requires “EnemyVisible,” it checks if the memory has a fact type “EnemyLocation” with high confidence.',\n",
       " 'Sensors deposit perceptions in working memory, providing a constant stream of up-to-date data. References allow you to ‘pass forward’ an effect from one action into the preconditions of subsequent actions, even if the actual value is only determined at runtime.”',\n",
       " 'The system must support referencing the effects of actions, meaning that an action’s preconditions can use dynamic data produced by another action’s effect.”',\n",
       " 'By linking the preconditions of one action to the effects of another, GOAP automatically ‘chains’ them into a valid plan, letting the system replan as needed, avoiding hand-crafted transitions between complex behaviors.”',\n",
       " 'The system must support references—i.e., dynamic data passed from one action’s effect into the preconditions of subsequent actions—even if the actual value is only determined at runtime. By defining simple, isolated actions—and letting the system figure out the chain of dependencies—you can rapidly prototype sophisticated behaviors that respond to emergent gameplay changes.”\\n“This specification describes a specialized Goal-Oriented Action Planning (GOAP) system that incorporates sensors and working memory, and a state machine to distribute computation and drive AI behavior in real time. Implement the entire code architecture described here to replicate the system exactly, meaning that if you omit any details, the implementation will not be able to replicate the original system.”',\n",
       " 'EXECUTION FLOW  \\n1) Sense Phase  \\n   – The agent calls each sensor to produce new facts and store them in working memory.  \\n   – Potentially remove outdated or low-confidence facts.  \\n2) Plan Phase  \\n   – The agent or manager calls the regressive GOAP planner, passing in the current world state and desired goal.  \\n   – The planner returns an ordered list of actions.  \\n3) Act Phase  \\n   – For each action in the plan, check again if the action’s context preconditions are valid (via working memory).  \\n   – If valid, run the action’s effect. The action might place a reference value into the world state, or handle external logic (like animating the character).  \\n   – If a precondition is not met anymore, replan using the updated state and facts.  \\n4) Loop  \\n   – The agent repeatedly cycles through sense → plan → act, maintaining up-to-date data in working memory.',\n",
       " 'FIVE DISTINCT SCENARIOS THAT USE REFERENCES (OPTIONAL)  \\n“Below are five hypothetical or illustrative usage scenarios that demonstrate how you can harness references in actions. These scenarios do not include the chanting example from the code snippet—thus giving fresh, concrete insight into references. For instance, passing a tool ID, flipping a table for cover, picking up a key to unlock a door, linking a generated power-on state, or using a repaired bridge to cross a river.”',\n",
       " 'TERMINOLOGY AND HIGH-LEVEL STRUCTURE  \\n“An agent develops a plan in real time by supplying a goal to satisfy a planner. The GOAP planner looks at an action’s preconditions and effects in order to determine a queue of actions to satisfy the goal. For a full deep dive into the code itself, please refer to the listing provided in this post’s code blocks.”',\n",
       " 'REFERENCES  \\n• A reference object (EffectReference) is used in an action’s preconditions to denote that the real value is supplied by the respective effect from another action.  \\n• If an action’s effect is { \"someID\": ... }, it indicates “I will produce a ‘someID’ once executed, but its actual data field is determined dynamically.”  \\n• Another action’s precondition can specify { \"neededID\": reference(\"someID\") }, linking that precondition to the specific runtime value provided by the prior action.  \\n• The planner unifies this link during regressive search, ensuring that any unsatisfied reference is matched by an appropriate effect from a preceding action in the plan.',\n",
       " 'DATA REPRESENTATION  \\na) World State  \\n• A dictionary holds symbolic keys and values (e.g., {\"hasKey\": False, \"isDoorUnlocked\": False}).  \\n• The system may track booleans, IDs, or other small data.  \\nb) Working Memory  \\n• A collection (e.g., a list) of “fact” objects that store sensor readings, including a fact type (e.g., “VisibleEnemy”) and relevant attributes (e.g., the enemy’s position or ID).  \\n• Each fact may include a timestamp, confidence score, or other metadata.  \\nc) Actions  \\n• Each action has:  \\n  – A name (string identifier).  \\n  – A preconditions dictionary specifying symbolic requirements or references.  \\n  – An effects dictionary describing changes or references produced by that action.  \\n  – A cost (float) for planning.  \\n• References are placeholders in preconditions or effects that say, “this will be determined by the result of a prior action.”  \\nd) Sensors  \\n• Each sensor observes part of the environment, retrieving data (e.g., scanning for items, enemies, or positions).  \\n• When activated, it creates or updates facts in working memory.  \\n• May include a confidence threshold or logic for removing outdated facts.',\n",
       " 'IMPLEMENTATION CHECKLIST  \\n• Implement a memory structure that can add, remove, and query facts by type.  \\n• Create multiple sensors, each with a sense method that writes one or more facts (with confidence) into memory.  \\n• Define Action classes that store preconditions, effects, references, cost, plus a method for context-based checks of working memory.  \\n• Implement the planning algorithm (e.g., an A* regressive search) that links actions by matching preconditions to effects, resolving references.  \\n• Ensure each action can run an execute(...) method that updates the world state (or triggers real game logic).  \\n• Include a cycle (or loop) that (1) triggers sensors to update memory, (2) attempts to plan a route from current world state to a specified goal, and (3) executes that plan step by step.',\n",
       " 'CONCLUSION  \\n“By defining both a planning system with references and a consistent sensor/working memory approach, we can dynamically pass data between actions and store relevant facts. The GOAP planner automatically figures out an optimal path (a plan) of actions that achieves the desired goal at runtime. This dynamic approach shines when the environment changes unexpectedly—GOAP can replan as needed, avoiding hand-crafted transitions between complex behaviors.”',\n",
       " 'SENSORS AND WORKING MEMORY (WorkingMemoryFact)  \\n“All knowledge generated by sensors is stored in working memory in a common format. Sensors deposit perceptions in working memory and the planner uses these perceptions to guide its decision-making. A WorkingMemoryFact is a record containing a set of associated attributes. Different subsets of attributes are assigned depending on the type of knowledge the fact represents.”',\n",
       " 'HOW REFERENCES WORK (EffectReference, reference(..))  \\n“References allow you to ‘pass forward’ an effect from one action into the preconditions of subsequent actions, even if the actual value is only determined at runtime. This is done via class EffectReference: A small class that annotates a requested effect name—and def reference(name: str): A convenience function that returns an EffectReference referencing that name.”\\n“For instance, if Action A has effects = { \"tool_id\": ... }, it means ‘I will provide a tool_id (but we’ll only know the real value at runtime).’ Another action B can specify preconditions = { \"required_tool_id\": reference(\"tool_id\") }, meaning ‘I depend on the tool_id that was created or identified by the earlier action.’”',\n",
       " 'Some sensors are event-driven while others poll. Event-driven sensors are useful for recognizing instantaneous events like sounds and damage. Polling works better for sensors that need to extract information from the world.”']"
      ]
     },
     "execution_count": 48,
     "metadata": {},
     "output_type": "execute_result"
    }
   ],
   "source": [
    "# len()\n",
    "shuffled_spec2 = shuffle_write(list(set(ordered_spec + conv_into_sections(both_spec1))))\n",
    "print(len(shuffled_spec2))\n",
    "shuffled_spec2"
   ]
  },
  {
   "cell_type": "code",
   "execution_count": 42,
   "metadata": {},
   "outputs": [],
   "source": [
    "ordering2 = [24, 8, 3, 14, 11, 1, 9, 10, 4, 22, 6, 2, 16, 23, 15, 12, 13, 17, 5, 7, 18, 19, 20, 21, 25]"
   ]
  },
  {
   "cell_type": "code",
   "execution_count": 46,
   "metadata": {},
   "outputs": [],
   "source": [
    "ordered_spec = [shuffled_spec2[i - 1] for i in ordering2]\n",
    "\n",
    "with open(\"both_spec_ord2.md\", \"w\") as f:\n",
    "    f.write(\"\\n\\n\".join(ordered_spec))"
   ]
  },
  {
   "cell_type": "code",
   "execution_count": 45,
   "metadata": {},
   "outputs": [
    {
     "data": {
      "text/plain": [
       "18"
      ]
     },
     "execution_count": 45,
     "metadata": {},
     "output_type": "execute_result"
    }
   ],
   "source": [
    "len(ordering)"
   ]
  },
  {
   "cell_type": "code",
   "execution_count": 72,
   "metadata": {},
   "outputs": [],
   "source": []
  },
  {
   "cell_type": "code",
   "execution_count": 73,
   "metadata": {},
   "outputs": [
    {
     "data": {
      "text/plain": [
       "68"
      ]
     },
     "execution_count": 73,
     "metadata": {},
     "output_type": "execute_result"
    }
   ],
   "source": [
    "len(\"────────────────────────────────────────────────────────────────────\")"
   ]
  },
  {
   "cell_type": "code",
   "execution_count": 81,
   "metadata": {},
   "outputs": [],
   "source": [
    "both_critique_spec = open(\n",
    "    \"/Users/ohadr/egbench/goap/code/both_critique_spec.txt\", \"r\"\n",
    ").read()\n",
    "sensor_spec = open(\"/Users/ohadr/egbench/goap/code/sensor_spec.txt\", \"r\").read()\n",
    "ref_spec = open(\"/Users/ohadr/egbench/goap/code/ref_spec.txt\", \"r\").read()\n",
    "specs = conv_into_sections(both_critique_spec)+ conv_into_sections(ref_spec) + conv_into_sections(\n",
    "    sensor_spec.replace(\n",
    "        \"────────────────────────────────────────────────────────────────────\", \"\\n\\n\\n\"\n",
    "    )\n",
    ")"
   ]
  },
  {
   "cell_type": "code",
   "execution_count": 87,
   "metadata": {},
   "outputs": [
    {
     "name": "stdout",
     "output_type": "stream",
     "text": [
      "Wrote shuffled sections to temporary file: /var/folders/7k/w0ptgvjx7m1gvprjz4wdtnm00000gn/T/tmphc9n1git\n",
      "58\n"
     ]
    }
   ],
   "source": [
    "# len()\n",
    "# please suggest a coherent ordering of the following (just output numbers). think first. you should give a permutation of the numbers 1-58.\n",
    "\n",
    "\n",
    "shuffled_spec3 = shuffle_write(specs)\n",
    "print(len(shuffled_spec3))\n",
    "# shuffled_spec3"
   ]
  },
  {
   "cell_type": "code",
   "execution_count": 85,
   "metadata": {},
   "outputs": [],
   "source": [
    "ordering3 = [1, 8, 40, 26, 20, 28, 53, 12, 27, 42, 50, 51, 13, 14, 21, 31, 35, 38, 56, 2, 17, 25, 29, 37, 46, 54, 11, 18, 22, 23, 55, 57, 3, 24, 32, 39, 45, 48, 49, 9, 15, 41, 44, 47, 52, 4, 5, 6, 7, 10, 16, 19, 30, 33, 34, 36, 43, 58]"
   ]
  },
  {
   "cell_type": "code",
   "execution_count": 86,
   "metadata": {},
   "outputs": [],
   "source": [
    "ordered_spec3 = [shuffled_spec3[i - 1] for i in ordering3]\n",
    "\n",
    "with open(\"both_spec_ord3.md\", \"w\") as f:\n",
    "    f.write(\"\\n\\n\".join(ordered_spec3))"
   ]
  },
  {
   "cell_type": "code",
   "execution_count": null,
   "metadata": {},
   "outputs": [],
   "source": []
  }
 ],
 "metadata": {
  "kernelspec": {
   "display_name": "Python 3",
   "language": "python",
   "name": "python3"
  },
  "language_info": {
   "codemirror_mode": {
    "name": "ipython",
    "version": 3
   },
   "file_extension": ".py",
   "mimetype": "text/x-python",
   "name": "python",
   "nbconvert_exporter": "python",
   "pygments_lexer": "ipython3",
   "version": "3.10.10"
  }
 },
 "nbformat": 4,
 "nbformat_minor": 2
}
